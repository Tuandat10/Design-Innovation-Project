{
 "cells": [
  {
   "cell_type": "code",
   "execution_count": 23,
   "id": "7bedd5d3-1c87-4a2f-b1f4-fd3cfaa62440",
   "metadata": {},
   "outputs": [
    {
     "name": "stdout",
     "output_type": "stream",
     "text": [
      "Collecting selenium\n",
      "  Downloading selenium-4.25.0-py3-none-any.whl.metadata (7.1 kB)\n",
      "Requirement already satisfied: urllib3<3,>=1.26 in c:\\users\\loogyee\\anaconda3\\lib\\site-packages (from urllib3[socks]<3,>=1.26->selenium) (2.2.2)\n",
      "Collecting trio~=0.17 (from selenium)\n",
      "  Downloading trio-0.26.2-py3-none-any.whl.metadata (8.6 kB)\n",
      "Collecting trio-websocket~=0.9 (from selenium)\n",
      "  Downloading trio_websocket-0.11.1-py3-none-any.whl.metadata (4.7 kB)\n",
      "Requirement already satisfied: certifi>=2021.10.8 in c:\\users\\loogyee\\anaconda3\\lib\\site-packages (from selenium) (2024.8.30)\n",
      "Requirement already satisfied: typing_extensions~=4.9 in c:\\users\\loogyee\\anaconda3\\lib\\site-packages (from selenium) (4.11.0)\n",
      "Requirement already satisfied: websocket-client~=1.8 in c:\\users\\loogyee\\anaconda3\\lib\\site-packages (from selenium) (1.8.0)\n",
      "Collecting attrs>=23.2.0 (from trio~=0.17->selenium)\n",
      "  Downloading attrs-24.2.0-py3-none-any.whl.metadata (11 kB)\n",
      "Requirement already satisfied: sortedcontainers in c:\\users\\loogyee\\anaconda3\\lib\\site-packages (from trio~=0.17->selenium) (2.4.0)\n",
      "Requirement already satisfied: idna in c:\\users\\loogyee\\anaconda3\\lib\\site-packages (from trio~=0.17->selenium) (3.7)\n",
      "Collecting outcome (from trio~=0.17->selenium)\n",
      "  Downloading outcome-1.3.0.post0-py2.py3-none-any.whl.metadata (2.6 kB)\n",
      "Requirement already satisfied: sniffio>=1.3.0 in c:\\users\\loogyee\\anaconda3\\lib\\site-packages (from trio~=0.17->selenium) (1.3.0)\n",
      "Requirement already satisfied: cffi>=1.14 in c:\\users\\loogyee\\anaconda3\\lib\\site-packages (from trio~=0.17->selenium) (1.16.0)\n",
      "Collecting wsproto>=0.14 (from trio-websocket~=0.9->selenium)\n",
      "  Downloading wsproto-1.2.0-py3-none-any.whl.metadata (5.6 kB)\n",
      "Requirement already satisfied: pysocks!=1.5.7,<2.0,>=1.5.6 in c:\\users\\loogyee\\anaconda3\\lib\\site-packages (from urllib3[socks]<3,>=1.26->selenium) (1.7.1)\n",
      "Requirement already satisfied: pycparser in c:\\users\\loogyee\\anaconda3\\lib\\site-packages (from cffi>=1.14->trio~=0.17->selenium) (2.21)\n",
      "Requirement already satisfied: h11<1,>=0.9.0 in c:\\users\\loogyee\\anaconda3\\lib\\site-packages (from wsproto>=0.14->trio-websocket~=0.9->selenium) (0.14.0)\n",
      "Downloading selenium-4.25.0-py3-none-any.whl (9.7 MB)\n",
      "   ---------------------------------------- 0.0/9.7 MB ? eta -:--:--\n",
      "    --------------------------------------- 0.1/9.7 MB 2.4 MB/s eta 0:00:04\n",
      "   - -------------------------------------- 0.4/9.7 MB 3.8 MB/s eta 0:00:03\n",
      "   -- ------------------------------------- 0.7/9.7 MB 5.0 MB/s eta 0:00:02\n",
      "   ---- ----------------------------------- 1.1/9.7 MB 5.8 MB/s eta 0:00:02\n",
      "   ------ --------------------------------- 1.6/9.7 MB 6.6 MB/s eta 0:00:02\n",
      "   -------- ------------------------------- 2.1/9.7 MB 7.4 MB/s eta 0:00:02\n",
      "   ---------- ----------------------------- 2.6/9.7 MB 7.9 MB/s eta 0:00:01\n",
      "   ------------ --------------------------- 3.0/9.7 MB 8.3 MB/s eta 0:00:01\n",
      "   -------------- ------------------------- 3.5/9.7 MB 8.3 MB/s eta 0:00:01\n",
      "   ----------------- ---------------------- 4.2/9.7 MB 9.2 MB/s eta 0:00:01\n",
      "   ------------------- -------------------- 4.8/9.7 MB 9.5 MB/s eta 0:00:01\n",
      "   ---------------------- ----------------- 5.5/9.7 MB 10.0 MB/s eta 0:00:01\n",
      "   ------------------------- -------------- 6.2/9.7 MB 10.4 MB/s eta 0:00:01\n",
      "   ---------------------------- ----------- 7.0/9.7 MB 10.9 MB/s eta 0:00:01\n",
      "   ------------------------------- -------- 7.7/9.7 MB 11.2 MB/s eta 0:00:01\n",
      "   ---------------------------------- ----- 8.3/9.7 MB 11.3 MB/s eta 0:00:01\n",
      "   ----------------------------------- ---- 8.7/9.7 MB 11.6 MB/s eta 0:00:01\n",
      "   ------------------------------------ --- 8.8/9.7 MB 10.6 MB/s eta 0:00:01\n",
      "   ------------------------------------- -- 9.0/9.7 MB 10.4 MB/s eta 0:00:01\n",
      "   ------------------------------------- -- 9.1/9.7 MB 9.9 MB/s eta 0:00:01\n",
      "   -------------------------------------- - 9.3/9.7 MB 9.7 MB/s eta 0:00:01\n",
      "   -------------------------------------- - 9.4/9.7 MB 9.3 MB/s eta 0:00:01\n",
      "   ---------------------------------------  9.6/9.7 MB 9.0 MB/s eta 0:00:01\n",
      "   ---------------------------------------- 9.7/9.7 MB 8.9 MB/s eta 0:00:00\n",
      "Downloading trio-0.26.2-py3-none-any.whl (475 kB)\n",
      "   ---------------------------------------- 0.0/476.0 kB ? eta -:--:--\n",
      "   ------------------------- ------------- 307.2/476.0 kB 19.8 MB/s eta 0:00:01\n",
      "   ------------------------------- -------- 378.9/476.0 kB 5.9 MB/s eta 0:00:01\n",
      "   ---------------------------------------- 476.0/476.0 kB 5.0 MB/s eta 0:00:00\n",
      "Downloading trio_websocket-0.11.1-py3-none-any.whl (17 kB)\n",
      "Downloading attrs-24.2.0-py3-none-any.whl (63 kB)\n",
      "   ---------------------------------------- 0.0/63.0 kB ? eta -:--:--\n",
      "   ---------------------------------------- 63.0/63.0 kB ? eta 0:00:00\n",
      "Downloading wsproto-1.2.0-py3-none-any.whl (24 kB)\n",
      "Downloading outcome-1.3.0.post0-py2.py3-none-any.whl (10 kB)\n",
      "Installing collected packages: wsproto, attrs, outcome, trio, trio-websocket, selenium\n",
      "  Attempting uninstall: attrs\n",
      "    Found existing installation: attrs 23.1.0\n",
      "    Uninstalling attrs-23.1.0:\n",
      "      Successfully uninstalled attrs-23.1.0\n",
      "Successfully installed attrs-24.2.0 outcome-1.3.0.post0 selenium-4.25.0 trio-0.26.2 trio-websocket-0.11.1 wsproto-1.2.0\n",
      "Note: you may need to restart the kernel to use updated packages.\n"
     ]
    }
   ],
   "source": [
    "pip install selenium "
   ]
  },
  {
   "cell_type": "code",
   "execution_count": 36,
   "id": "d2f4c367-1ff7-41a3-b790-76ba7b22667b",
   "metadata": {},
   "outputs": [
    {
     "name": "stdout",
     "output_type": "stream",
     "text": [
      "Collecting webdriver-manager\n",
      "  Downloading webdriver_manager-4.0.2-py2.py3-none-any.whl.metadata (12 kB)\n",
      "Requirement already satisfied: requests in c:\\users\\loogyee\\anaconda3\\lib\\site-packages (from webdriver-manager) (2.32.2)\n",
      "Requirement already satisfied: python-dotenv in c:\\users\\loogyee\\anaconda3\\lib\\site-packages (from webdriver-manager) (0.21.0)\n",
      "Requirement already satisfied: packaging in c:\\users\\loogyee\\anaconda3\\lib\\site-packages (from webdriver-manager) (23.2)\n",
      "Requirement already satisfied: charset-normalizer<4,>=2 in c:\\users\\loogyee\\anaconda3\\lib\\site-packages (from requests->webdriver-manager) (2.0.4)\n",
      "Requirement already satisfied: idna<4,>=2.5 in c:\\users\\loogyee\\anaconda3\\lib\\site-packages (from requests->webdriver-manager) (3.7)\n",
      "Requirement already satisfied: urllib3<3,>=1.21.1 in c:\\users\\loogyee\\anaconda3\\lib\\site-packages (from requests->webdriver-manager) (2.2.2)\n",
      "Requirement already satisfied: certifi>=2017.4.17 in c:\\users\\loogyee\\anaconda3\\lib\\site-packages (from requests->webdriver-manager) (2024.8.30)\n",
      "Downloading webdriver_manager-4.0.2-py2.py3-none-any.whl (27 kB)\n",
      "Installing collected packages: webdriver-manager\n",
      "Successfully installed webdriver-manager-4.0.2\n",
      "Note: you may need to restart the kernel to use updated packages.\n"
     ]
    }
   ],
   "source": [
    "pip install webdriver-manager"
   ]
  },
  {
   "cell_type": "code",
   "execution_count": 44,
   "id": "ffd612d8-1235-489c-a14a-5b9163a08b85",
   "metadata": {},
   "outputs": [],
   "source": [
    "from selenium import webdriver"
   ]
  }
 ],
 "metadata": {
  "kernelspec": {
   "display_name": "Python 3 (ipykernel)",
   "language": "python",
   "name": "python3"
  },
  "language_info": {
   "codemirror_mode": {
    "name": "ipython",
    "version": 3
   },
   "file_extension": ".py",
   "mimetype": "text/x-python",
   "name": "python",
   "nbconvert_exporter": "python",
   "pygments_lexer": "ipython3",
   "version": "3.12.4"
  }
 },
 "nbformat": 4,
 "nbformat_minor": 5
}
