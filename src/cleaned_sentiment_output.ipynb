{
 "cells": [
  {
   "cell_type": "code",
   "execution_count": 1,
   "metadata": {},
   "outputs": [],
   "source": [
    "import pandas as pd\n",
    "import mysql.connector"
   ]
  },
  {
   "cell_type": "code",
   "execution_count": 103,
   "metadata": {},
   "outputs": [],
   "source": [
    "host = \"feenix-mariadb.swin.edu.au\"\n",
    "user = \"s104489467\"\n",
    "password = \"101100\"\n",
    "database = \"s104489467_db\"\n",
    "connection = mysql.connector.connect(host=host,user=user,password=password,database=database)\n",
    "cursor = connection.cursor()"
   ]
  },
  {
   "cell_type": "code",
   "execution_count": 3,
   "metadata": {},
   "outputs": [],
   "source": [
    "sql_query = \"select * from public_sentiment\""
   ]
  },
  {
   "cell_type": "code",
   "execution_count": 37,
   "metadata": {},
   "outputs": [
    {
     "name": "stderr",
     "output_type": "stream",
     "text": [
      "C:\\Users\\HP Envy\\AppData\\Local\\Temp\\ipykernel_2844\\1690567701.py:1: UserWarning: pandas only supports SQLAlchemy connectable (engine/connection) or database string URI or sqlite3 DBAPI2 connection. Other DBAPI2 objects are not tested. Please consider using SQLAlchemy.\n",
      "  df = pd.read_sql(sql_query, connection)\n"
     ]
    }
   ],
   "source": [
    "df = pd.read_sql(sql_query, connection)"
   ]
  },
  {
   "cell_type": "code",
   "execution_count": 38,
   "metadata": {},
   "outputs": [],
   "source": [
    "df['key_word'] = df['key_word'].str.strip() \\\n",
    "    .str.replace('-', '', regex=False) "
   ]
  },
  {
   "cell_type": "code",
   "execution_count": 39,
   "metadata": {},
   "outputs": [],
   "source": [
    "df['key_word'] = df['key_word'].str.replace(r'\\\\n', ', ', regex=True)"
   ]
  },
  {
   "cell_type": "code",
   "execution_count": 40,
   "metadata": {},
   "outputs": [],
   "source": [
    "df['key_word'] = df['key_word'].str.replace(r'\\*', ', ', regex=True) \n",
    "df['key_word'] = df['key_word'].str.replace(r'\\d+', ', ', regex=True) "
   ]
  },
  {
   "cell_type": "code",
   "execution_count": 44,
   "metadata": {},
   "outputs": [],
   "source": [
    "df['key_word'] =df['key_word'].str.replace(r', , ',', ')"
   ]
  },
  {
   "cell_type": "code",
   "execution_count": 46,
   "metadata": {},
   "outputs": [],
   "source": [
    "df['key_word'] =df['key_word'].str.replace(r' , ',', ')"
   ]
  },
  {
   "cell_type": "code",
   "execution_count": 48,
   "metadata": {},
   "outputs": [],
   "source": [
    "df['key_word'] = df['key_word'].str.split(',').apply(lambda x: ', '.join(sorted(set(x), key=x.index)))"
   ]
  },
  {
   "cell_type": "code",
   "execution_count": 50,
   "metadata": {},
   "outputs": [],
   "source": [
    "df['key_word'] =df['key_word'].str.replace(r'.','')"
   ]
  },
  {
   "cell_type": "code",
   "execution_count": 52,
   "metadata": {},
   "outputs": [],
   "source": [
    "df['key_word'] =df['key_word'].str.replace(r':','')"
   ]
  },
  {
   "cell_type": "code",
   "execution_count": 54,
   "metadata": {},
   "outputs": [],
   "source": [
    "df['key_word'] = df['key_word'].str.lstrip(\"', \")"
   ]
  },
  {
   "cell_type": "code",
   "execution_count": 56,
   "metadata": {},
   "outputs": [],
   "source": [
    "df['key_word'] =df['key_word'].str.replace(r'(Note Notwithstanding and excessively is used here)','')"
   ]
  },
  {
   "cell_type": "code",
   "execution_count": 73,
   "metadata": {},
   "outputs": [
    {
     "name": "stderr",
     "output_type": "stream",
     "text": [
      "[nltk_data] Downloading package punkt to C:\\Users\\HP\n",
      "[nltk_data]     Envy\\AppData\\Roaming\\nltk_data...\n",
      "[nltk_data]   Package punkt is already up-to-date!\n"
     ]
    }
   ],
   "source": [
    "import pandas as pd\n",
    "import nltk\n",
    "\n",
    "# Ensure necessary NLTK data is downloaded\n",
    "nltk.download('punkt')\n",
    "def extract_capitalized_tokens(sentence):\n",
    "    # Tokenize the sentence\n",
    "    tokens = nltk.word_tokenize(sentence)\n",
    "    # Filter tokens that start with a capitalized first letter\n",
    "    capitalized_tokens = [token for token in tokens if token[0].isupper()]\n",
    "    return ', '.join(capitalized_tokens)\n",
    "df['capitalized_tokens'] = df['key_word'].apply(extract_capitalized_tokens)"
   ]
  },
  {
   "cell_type": "code",
   "execution_count": 92,
   "metadata": {},
   "outputs": [],
   "source": [
    "df['capitalized_tokens'] = df['capitalized_tokens'].str.replace(r'Keyword','')"
   ]
  },
  {
   "cell_type": "code",
   "execution_count": 83,
   "metadata": {},
   "outputs": [],
   "source": [
    "df['key_word'] = df['key_word'].str.lstrip(\", \")"
   ]
  },
  {
   "cell_type": "code",
   "execution_count": 85,
   "metadata": {},
   "outputs": [],
   "source": [
    "df['capitalized_tokens'] = df['capitalized_tokens'].str.replace(r'None, ','')\n"
   ]
  },
  {
   "cell_type": "code",
   "execution_count": 87,
   "metadata": {},
   "outputs": [],
   "source": [
    "df['capitalized_tokens'] = df['capitalized_tokens'].str.replace(r' As, I, , ','')\n"
   ]
  },
  {
   "cell_type": "code",
   "execution_count": 88,
   "metadata": {},
   "outputs": [],
   "source": [
    "df['capitalized_tokens'] = df['capitalized_tokens'].str.replace(r'Here, We, , ','')\n"
   ]
  },
  {
   "cell_type": "code",
   "execution_count": 89,
   "metadata": {},
   "outputs": [],
   "source": [
    "df['capitalized_tokens'] = df['capitalized_tokens'].str.replace(r', Tax, A, , Technology, The, LNP\\\\','')\n"
   ]
  },
  {
   "cell_type": "code",
   "execution_count": 90,
   "metadata": {},
   "outputs": [],
   "source": [
    "df['capitalized_tokens'] = df['capitalized_tokens'].str.replace(r' Brain, Drain,','')\n"
   ]
  },
  {
   "cell_type": "code",
   "execution_count": 91,
   "metadata": {},
   "outputs": [],
   "source": [
    "df['capitalized_tokens'] = df['capitalized_tokens'].str.replace(r' No, Economy, Yes, Tax, No, Investment, Yes, Technology, Yes, Environment, Yes, Cost, Yes','')\n"
   ]
  },
  {
   "cell_type": "code",
   "execution_count": 95,
   "metadata": {},
   "outputs": [],
   "source": [
    "df.drop(['key_word'], axis=1, inplace=True)"
   ]
  },
  {
   "cell_type": "code",
   "execution_count": 96,
   "metadata": {},
   "outputs": [
    {
     "data": {
      "text/html": [
       "<div>\n",
       "<style scoped>\n",
       "    .dataframe tbody tr th:only-of-type {\n",
       "        vertical-align: middle;\n",
       "    }\n",
       "\n",
       "    .dataframe tbody tr th {\n",
       "        vertical-align: top;\n",
       "    }\n",
       "\n",
       "    .dataframe thead th {\n",
       "        text-align: right;\n",
       "    }\n",
       "</style>\n",
       "<table border=\"1\" class=\"dataframe\">\n",
       "  <thead>\n",
       "    <tr style=\"text-align: right;\">\n",
       "      <th></th>\n",
       "      <th>id</th>\n",
       "      <th>country</th>\n",
       "      <th>energy_source</th>\n",
       "      <th>comment</th>\n",
       "      <th>sentiment_score</th>\n",
       "      <th>capitalized_tokens</th>\n",
       "    </tr>\n",
       "  </thead>\n",
       "  <tbody>\n",
       "    <tr>\n",
       "      <th>0</th>\n",
       "      <td>61</td>\n",
       "      <td>Australia</td>\n",
       "      <td>FMAA</td>\n",
       "      <td>https://12ft.io/https://www.smh.com.au/politic...</td>\n",
       "      <td>1.5632</td>\n",
       "      <td>Policy, Jobs</td>\n",
       "    </tr>\n",
       "    <tr>\n",
       "      <th>1</th>\n",
       "      <td>62</td>\n",
       "      <td>Australia</td>\n",
       "      <td>FMAA</td>\n",
       "      <td>The Coalition has attacked the production cred...</td>\n",
       "      <td>1.8852</td>\n",
       "      <td>Tax, Investment, Environment, Cost</td>\n",
       "    </tr>\n",
       "    <tr>\n",
       "      <th>2</th>\n",
       "      <td>63</td>\n",
       "      <td>Australia</td>\n",
       "      <td>FMAA</td>\n",
       "      <td>Production credits are better than handouts - ...</td>\n",
       "      <td>4.5928</td>\n",
       "      <td>Jobs, Cost</td>\n",
       "    </tr>\n",
       "    <tr>\n",
       "      <th>3</th>\n",
       "      <td>64</td>\n",
       "      <td>Australia</td>\n",
       "      <td>FMAA</td>\n",
       "      <td>Roll the dice with our labour rates, our envir...</td>\n",
       "      <td>3.0</td>\n",
       "      <td>Market, Risk, Investment, Strategy, Cost, Mana...</td>\n",
       "    </tr>\n",
       "    <tr>\n",
       "      <th>4</th>\n",
       "      <td>65</td>\n",
       "      <td>Australia</td>\n",
       "      <td>FMAA</td>\n",
       "      <td>Aiming for more economic complexity is good, b...</td>\n",
       "      <td>3.807</td>\n",
       "      <td>Policy, Economy, Cost, Investment, Technology</td>\n",
       "    </tr>\n",
       "    <tr>\n",
       "      <th>...</th>\n",
       "      <td>...</td>\n",
       "      <td>...</td>\n",
       "      <td>...</td>\n",
       "      <td>...</td>\n",
       "      <td>...</td>\n",
       "      <td>...</td>\n",
       "    </tr>\n",
       "    <tr>\n",
       "      <th>3771</th>\n",
       "      <td>3832</td>\n",
       "      <td>Australia</td>\n",
       "      <td>Other</td>\n",
       "      <td>Despite calls for no new #coal plants in order...</td>\n",
       "      <td>1</td>\n",
       "      <td>Tax, Investment, Environment</td>\n",
       "    </tr>\n",
       "    <tr>\n",
       "      <th>3772</th>\n",
       "      <td>3833</td>\n",
       "      <td>Australia</td>\n",
       "      <td>Other</td>\n",
       "      <td>Curious crossover: a political funding group i...</td>\n",
       "      <td>2</td>\n",
       "      <td>Policy, Tax</td>\n",
       "    </tr>\n",
       "    <tr>\n",
       "      <th>3773</th>\n",
       "      <td>3834</td>\n",
       "      <td>Australia</td>\n",
       "      <td>Other</td>\n",
       "      <td>Momentum is building for stronger action on cl...</td>\n",
       "      <td>4</td>\n",
       "      <td>Environment, Climate, Change</td>\n",
       "    </tr>\n",
       "    <tr>\n",
       "      <th>3774</th>\n",
       "      <td>3835</td>\n",
       "      <td>Australia</td>\n",
       "      <td>Nuclear Energy</td>\n",
       "      <td>Australia politics live: anti-trans protests ‘...</td>\n",
       "      <td>1</td>\n",
       "      <td>Policy, Jobs, Economy, Note, There</td>\n",
       "    </tr>\n",
       "    <tr>\n",
       "      <th>3775</th>\n",
       "      <td>3836</td>\n",
       "      <td>Australia</td>\n",
       "      <td>Other</td>\n",
       "      <td>“- for 3 decades conservatives turned scientif...</td>\n",
       "      <td>1</td>\n",
       "      <td>Policy, Cost, Environment</td>\n",
       "    </tr>\n",
       "  </tbody>\n",
       "</table>\n",
       "<p>3776 rows × 6 columns</p>\n",
       "</div>"
      ],
      "text/plain": [
       "        id    country   energy_source  \\\n",
       "0       61  Australia            FMAA   \n",
       "1       62  Australia            FMAA   \n",
       "2       63  Australia            FMAA   \n",
       "3       64  Australia            FMAA   \n",
       "4       65  Australia            FMAA   \n",
       "...    ...        ...             ...   \n",
       "3771  3832  Australia           Other   \n",
       "3772  3833  Australia           Other   \n",
       "3773  3834  Australia           Other   \n",
       "3774  3835  Australia  Nuclear Energy   \n",
       "3775  3836  Australia           Other   \n",
       "\n",
       "                                                comment sentiment_score  \\\n",
       "0     https://12ft.io/https://www.smh.com.au/politic...          1.5632   \n",
       "1     The Coalition has attacked the production cred...          1.8852   \n",
       "2     Production credits are better than handouts - ...          4.5928   \n",
       "3     Roll the dice with our labour rates, our envir...             3.0   \n",
       "4     Aiming for more economic complexity is good, b...           3.807   \n",
       "...                                                 ...             ...   \n",
       "3771  Despite calls for no new #coal plants in order...               1   \n",
       "3772  Curious crossover: a political funding group i...               2   \n",
       "3773  Momentum is building for stronger action on cl...               4   \n",
       "3774  Australia politics live: anti-trans protests ‘...               1   \n",
       "3775  “- for 3 decades conservatives turned scientif...               1   \n",
       "\n",
       "                                     capitalized_tokens  \n",
       "0                                          Policy, Jobs  \n",
       "1                    Tax, Investment, Environment, Cost  \n",
       "2                                            Jobs, Cost  \n",
       "3     Market, Risk, Investment, Strategy, Cost, Mana...  \n",
       "4         Policy, Economy, Cost, Investment, Technology  \n",
       "...                                                 ...  \n",
       "3771                       Tax, Investment, Environment  \n",
       "3772                                        Policy, Tax  \n",
       "3773                       Environment, Climate, Change  \n",
       "3774                 Policy, Jobs, Economy, Note, There  \n",
       "3775                          Policy, Cost, Environment  \n",
       "\n",
       "[3776 rows x 6 columns]"
      ]
     },
     "execution_count": 96,
     "metadata": {},
     "output_type": "execute_result"
    }
   ],
   "source": [
    "df"
   ]
  },
  {
   "cell_type": "code",
   "execution_count": 100,
   "metadata": {},
   "outputs": [
    {
     "data": {
      "text/plain": [
       "array(['FMAA', 'HHS', 'hydro', 'nuclearpower', 'RET', 'solarpower', 'SSP',\n",
       "       'subsidies', 'windpower', 'Solar Energy', 'Other', 'Wind Energy',\n",
       "       'Nuclear Energy', 'Bioenergy', 'Hydro Power', 'Geothermal'],\n",
       "      dtype=object)"
      ]
     },
     "execution_count": 100,
     "metadata": {},
     "output_type": "execute_result"
    }
   ],
   "source": [
    "df['energy_source'].unique()"
   ]
  },
  {
   "cell_type": "code",
   "execution_count": 101,
   "metadata": {},
   "outputs": [],
   "source": [
    "df['energy_source'] = df['energy_source'].apply(lambda x: \"Hydro Power\" if x ==\"hydro\" else \"Solar Energy\" if x == \"solarpower\" else \"Wind Energy\" if x == \"windpower\" else \"Nuclear Energy\" if x == \"nuclearpower\" else x)"
   ]
  },
  {
   "cell_type": "code",
   "execution_count": 102,
   "metadata": {},
   "outputs": [
    {
     "data": {
      "text/plain": [
       "array(['FMAA', 'HHS', 'Hydro Power', 'Nuclear Energy', 'RET',\n",
       "       'Solar Energy', 'SSP', 'subsidies', 'Wind Energy', 'Other',\n",
       "       'Bioenergy', 'Geothermal'], dtype=object)"
      ]
     },
     "execution_count": 102,
     "metadata": {},
     "output_type": "execute_result"
    }
   ],
   "source": [
    "df['energy_source'].unique()"
   ]
  },
  {
   "cell_type": "code",
   "execution_count": 104,
   "metadata": {},
   "outputs": [],
   "source": [
    "for i in range(len(df)):\n",
    "    country = df['country'][i]\n",
    "    energy_source = df['energy_source'][i]\n",
    "    comment = df['comment'][i]\n",
    "    key_word = df['capitalized_tokens'][i]\n",
    "    sentiment_score = df['sentiment_score'][i]\n",
    "    query=\"Insert into public_sentiment (country, energy_source, comment, key_word, sentiment_score) values (%s, %s, %s, %s, %s)\"\n",
    "    cursor.execute(query, (country, energy_source, comment, key_word, sentiment_score))\n",
    "    connection.commit()\n",
    "cursor.close()\n",
    "connection.close()"
   ]
  },
  {
   "cell_type": "code",
   "execution_count": 105,
   "metadata": {},
   "outputs": [],
   "source": [
    "df.to_csv(r\"C:\\Users\\HP Envy\\OneDrive - Swinburne University\\Data Science\\Innovation project\\output_data\\public_sentiment.csv\", index = False)"
   ]
  },
  {
   "cell_type": "code",
   "execution_count": null,
   "metadata": {},
   "outputs": [],
   "source": []
  }
 ],
 "metadata": {
  "kernelspec": {
   "display_name": "base",
   "language": "python",
   "name": "python3"
  },
  "language_info": {
   "codemirror_mode": {
    "name": "ipython",
    "version": 3
   },
   "file_extension": ".py",
   "mimetype": "text/x-python",
   "name": "python",
   "nbconvert_exporter": "python",
   "pygments_lexer": "ipython3",
   "version": "3.11.7"
  }
 },
 "nbformat": 4,
 "nbformat_minor": 2
}
