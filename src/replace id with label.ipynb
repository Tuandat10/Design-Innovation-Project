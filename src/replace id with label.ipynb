{
 "cells": [
  {
   "cell_type": "code",
   "execution_count": 1,
   "id": "e68fdb2e-6974-4890-8854-4ea7093193e0",
   "metadata": {
    "tags": []
   },
   "outputs": [],
   "source": [
    "import pandas as pd"
   ]
  },
  {
   "cell_type": "code",
   "execution_count": 2,
   "id": "9f9fc0c1-9557-4ff6-b934-9f3f07b07e7d",
   "metadata": {
    "tags": []
   },
   "outputs": [],
   "source": [
    "edges_df = pd.read_excel('EdgeP.xlsx')\n",
    "nodes_df = pd.read_excel('NodeP.xlsx')"
   ]
  },
  {
   "cell_type": "code",
   "execution_count": 3,
   "id": "20f415fb-125a-4f38-98aa-8741a9f3daf5",
   "metadata": {
    "tags": []
   },
   "outputs": [],
   "source": [
    "# Create a mapping from 'id' to 'label' from the nodes dataframe\n",
    "id_to_label = nodes_df.set_index('id')['label'].to_dict()"
   ]
  },
  {
   "cell_type": "code",
   "execution_count": 4,
   "id": "546a5935-30a3-40b1-a0f2-ecbf498cad19",
   "metadata": {
    "tags": []
   },
   "outputs": [],
   "source": [
    "# Replace 'source' and 'target' in edges_df with their corresponding labels from the nodes_df\n",
    "edges_df['source'] = edges_df['source'].map(id_to_label)\n",
    "edges_df['target'] = edges_df['target'].map(id_to_label)"
   ]
  },
  {
   "cell_type": "code",
   "execution_count": 5,
   "id": "327ab017-f35b-48a9-a365-a1c688bf6a47",
   "metadata": {
    "tags": []
   },
   "outputs": [
    {
     "name": "stdout",
     "output_type": "stream",
     "text": [
      "  source             target  relationship  \\\n",
      "0  Japan       Solar Energy  Availability   \n",
      "1  Japan        Wind Energy  Availability   \n",
      "2  Japan       Hydro Energy  Availability   \n",
      "3  Japan            Biomass  Availability   \n",
      "4  Japan  Geothermal Energy  Availability   \n",
      "\n",
      "                             description  \n",
      "0  Availability of solar energy in Japan  \n",
      "1   Availability of wind energy in Japan  \n",
      "2  Availability of Hydro energy in Japan  \n",
      "3       Availability of Biomass in Japan  \n",
      "4    Availability of Geothermal in Japan  \n"
     ]
    }
   ],
   "source": [
    "# Display the updated edges dataframe\n",
    "print(edges_df.head())"
   ]
  },
  {
   "cell_type": "code",
   "execution_count": 7,
   "id": "0b0ad3ce-48f5-4e0c-b16e-8224c635c056",
   "metadata": {
    "tags": []
   },
   "outputs": [
    {
     "data": {
      "text/html": [
       "<div>\n",
       "<style scoped>\n",
       "    .dataframe tbody tr th:only-of-type {\n",
       "        vertical-align: middle;\n",
       "    }\n",
       "\n",
       "    .dataframe tbody tr th {\n",
       "        vertical-align: top;\n",
       "    }\n",
       "\n",
       "    .dataframe thead th {\n",
       "        text-align: right;\n",
       "    }\n",
       "</style>\n",
       "<table border=\"1\" class=\"dataframe\">\n",
       "  <thead>\n",
       "    <tr style=\"text-align: right;\">\n",
       "      <th></th>\n",
       "      <th>source</th>\n",
       "      <th>target</th>\n",
       "      <th>relationship</th>\n",
       "      <th>description</th>\n",
       "    </tr>\n",
       "  </thead>\n",
       "  <tbody>\n",
       "    <tr>\n",
       "      <th>0</th>\n",
       "      <td>Japan</td>\n",
       "      <td>Solar Energy</td>\n",
       "      <td>Availability</td>\n",
       "      <td>Availability of solar energy in Japan</td>\n",
       "    </tr>\n",
       "    <tr>\n",
       "      <th>1</th>\n",
       "      <td>Japan</td>\n",
       "      <td>Wind Energy</td>\n",
       "      <td>Availability</td>\n",
       "      <td>Availability of wind energy in Japan</td>\n",
       "    </tr>\n",
       "    <tr>\n",
       "      <th>2</th>\n",
       "      <td>Japan</td>\n",
       "      <td>Hydro Energy</td>\n",
       "      <td>Availability</td>\n",
       "      <td>Availability of Hydro energy in Japan</td>\n",
       "    </tr>\n",
       "    <tr>\n",
       "      <th>3</th>\n",
       "      <td>Japan</td>\n",
       "      <td>Biomass</td>\n",
       "      <td>Availability</td>\n",
       "      <td>Availability of Biomass in Japan</td>\n",
       "    </tr>\n",
       "    <tr>\n",
       "      <th>4</th>\n",
       "      <td>Japan</td>\n",
       "      <td>Geothermal Energy</td>\n",
       "      <td>Availability</td>\n",
       "      <td>Availability of Geothermal in Japan</td>\n",
       "    </tr>\n",
       "  </tbody>\n",
       "</table>\n",
       "</div>"
      ],
      "text/plain": [
       "  source             target  relationship  \\\n",
       "0  Japan       Solar Energy  Availability   \n",
       "1  Japan        Wind Energy  Availability   \n",
       "2  Japan       Hydro Energy  Availability   \n",
       "3  Japan            Biomass  Availability   \n",
       "4  Japan  Geothermal Energy  Availability   \n",
       "\n",
       "                             description  \n",
       "0  Availability of solar energy in Japan  \n",
       "1   Availability of wind energy in Japan  \n",
       "2  Availability of Hydro energy in Japan  \n",
       "3       Availability of Biomass in Japan  \n",
       "4    Availability of Geothermal in Japan  "
      ]
     },
     "execution_count": 7,
     "metadata": {},
     "output_type": "execute_result"
    }
   ],
   "source": [
    "edges_df.head()"
   ]
  },
  {
   "cell_type": "code",
   "execution_count": 10,
   "id": "0d34a6dd-ccc3-4581-b8d9-09cb38148439",
   "metadata": {
    "tags": []
   },
   "outputs": [],
   "source": [
    "# Save the merged DataFrame to a excel file\n",
    "edges_df.to_excel('edges_df.xlsx', index=False)"
   ]
  },
  {
   "cell_type": "code",
   "execution_count": null,
   "id": "a58f88cd-483b-4e48-8365-c826294509c7",
   "metadata": {},
   "outputs": [],
   "source": []
  }
 ],
 "metadata": {
  "kernelspec": {
   "display_name": "Python 3 (ipykernel)",
   "language": "python",
   "name": "python3"
  },
  "language_info": {
   "codemirror_mode": {
    "name": "ipython",
    "version": 3
   },
   "file_extension": ".py",
   "mimetype": "text/x-python",
   "name": "python",
   "nbconvert_exporter": "python",
   "pygments_lexer": "ipython3",
   "version": "3.11.5"
  }
 },
 "nbformat": 4,
 "nbformat_minor": 5
}
