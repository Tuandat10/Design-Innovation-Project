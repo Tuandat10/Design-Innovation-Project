{
 "cells": [
  {
   "cell_type": "code",
   "execution_count": 14,
   "metadata": {},
   "outputs": [],
   "source": [
    "import pandas as pd\n",
    "from openai import OpenAI\n",
    "import re"
   ]
  },
  {
   "cell_type": "code",
   "execution_count": 11,
   "metadata": {},
   "outputs": [],
   "source": [
    "client = OpenAI(base_url=\"http://localhost:1234/v1\", api_key=\"lm-studio\")\n"
   ]
  },
  {
   "cell_type": "code",
   "execution_count": 23,
   "metadata": {},
   "outputs": [],
   "source": [
    "def add_keywords(keyword):\n",
    "    completion = client.chat.completions.create(\n",
    "    model=\"TheBloke/Mistral-7B-OpenOrca-GGUF\",\n",
    "    messages=[\n",
    "      {\"role\": \"system\", \"content\": \"Assign these types of keyword for each comment in these scope: Policy, Jobs, Economy, Tax, Investment, Technology, Environment, Cost, Infrastructure. One comment can have more than one keywords just give me keywords  and do not explain\"},\n",
    "      {\"role\": \"user\", \"content\": keyword}\n",
    "    ],\n",
    "    temperature=0.7,\n",
    "  )\n",
    "    pattern = r\"content\\s*=\\s*'([^']*)'\"\n",
    "    string_result = str(completion.choices[0].message)\n",
    "    print(string_result)\n",
    "    match = re.search(pattern, string_result)\n",
    "    return match.group(1)"
   ]
  },
  {
   "cell_type": "code",
   "execution_count": 3,
   "metadata": {},
   "outputs": [],
   "source": [
    "df = pd.read_csv(r'C:\\Users\\HP Envy\\OneDrive - Swinburne University\\Data Science\\Innovation project\\check.csv')"
   ]
  },
  {
   "cell_type": "code",
   "execution_count": 6,
   "metadata": {},
   "outputs": [],
   "source": [
    "df_check = df.iloc[2]"
   ]
  },
  {
   "cell_type": "code",
   "execution_count": 8,
   "metadata": {},
   "outputs": [],
   "source": [
    "comment = df_check['comment']"
   ]
  },
  {
   "cell_type": "code",
   "execution_count": 9,
   "metadata": {},
   "outputs": [
    {
     "data": {
      "text/plain": [
       "'Production credits are better than handouts - production earns credits You get nothing for nuffink !'"
      ]
     },
     "execution_count": 9,
     "metadata": {},
     "output_type": "execute_result"
    }
   ],
   "source": [
    "comment"
   ]
  },
  {
   "cell_type": "code",
   "execution_count": 24,
   "metadata": {},
   "outputs": [
    {
     "name": "stdout",
     "output_type": "stream",
     "text": [
      "ChatCompletionMessage(content=' Cost, Investment, Economy', role='assistant', function_call=None, tool_calls=None)\n"
     ]
    },
    {
     "data": {
      "text/plain": [
       "' Cost, Investment, Economy'"
      ]
     },
     "execution_count": 24,
     "metadata": {},
     "output_type": "execute_result"
    }
   ],
   "source": [
    "add_keywords(comment)"
   ]
  },
  {
   "cell_type": "code",
   "execution_count": null,
   "metadata": {},
   "outputs": [],
   "source": [
    "import re\n",
    "category=[]\n",
    "pattern = r\"content\\s*=\\s*'([^']*)'\"\n",
    "for i in keywords_list:\n",
    "    string = get_category(i)\n",
    "    string = str(string)\n",
    "    match = re.search(pattern, string)\n",
    "    if match:\n",
    "        category.append(match.group(1))\n",
    "    else:\n",
    "        category.append(\"Not Found\")"
   ]
  }
 ],
 "metadata": {
  "kernelspec": {
   "display_name": "base",
   "language": "python",
   "name": "python3"
  },
  "language_info": {
   "codemirror_mode": {
    "name": "ipython",
    "version": 3
   },
   "file_extension": ".py",
   "mimetype": "text/x-python",
   "name": "python",
   "nbconvert_exporter": "python",
   "pygments_lexer": "ipython3",
   "version": "3.11.7"
  }
 },
 "nbformat": 4,
 "nbformat_minor": 2
}
