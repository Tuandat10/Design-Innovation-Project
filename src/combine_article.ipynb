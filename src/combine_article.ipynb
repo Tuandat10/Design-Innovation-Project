{
 "cells": [
  {
   "cell_type": "code",
   "execution_count": 1,
   "id": "7275e092",
   "metadata": {},
   "outputs": [],
   "source": [
    "import pandas as pd\n",
    "import os"
   ]
  },
  {
   "cell_type": "code",
   "execution_count": 2,
   "id": "5c239ca3",
   "metadata": {},
   "outputs": [
    {
     "name": "stdout",
     "output_type": "stream",
     "text": [
      "01_relationships.csv exists: True\n",
      "02_relationships.csv exists: True\n",
      "03_relationships.csv exists: True\n",
      "04_relationships.csv exists: True\n",
      "05_relationships.csv exists: True\n",
      "06_relationships.csv exists: True\n",
      "07_relationships.csv exists: True\n",
      "08_relationships.csv exists: True\n",
      "09_relationships.csv exists: True\n",
      "10_relationships.csv exists: True\n",
      "11_relationships.csv exists: True\n",
      "12_relationships.csv exists: True\n",
      "13_relationships.csv exists: True\n"
     ]
    }
   ],
   "source": [
    "# Relationship files\n",
    "file_list = [f'{i:02d}_relationships.csv' for i in range(1, 14)]\n",
    "for file_name in file_list:\n",
    "    print(file_name, \"exists:\", os.path.exists(file_name))"
   ]
  },
  {
   "cell_type": "code",
   "execution_count": 3,
   "id": "9a1d7b85",
   "metadata": {},
   "outputs": [],
   "source": [
    "dfs = []"
   ]
  },
  {
   "cell_type": "code",
   "execution_count": 4,
   "id": "a1c4743c",
   "metadata": {},
   "outputs": [],
   "source": [
    "# Loop\n",
    "for file_name in file_list:\n",
    "    if os.path.exists(file_name):\n",
    "        df = pd.read_csv(file_name)\n",
    "        dfs.append(df)\n",
    "    else:\n",
    "        print(\"none\")"
   ]
  },
  {
   "cell_type": "code",
   "execution_count": 5,
   "id": "e3685860",
   "metadata": {},
   "outputs": [],
   "source": [
    "combined_df = pd.concat(dfs, ignore_index=True)"
   ]
  },
  {
   "cell_type": "code",
   "execution_count": 10,
   "id": "1712abfa",
   "metadata": {},
   "outputs": [],
   "source": [
    "sorted_combined_df = combined_df.sort_values(by='Entity1', ascending=True)"
   ]
  },
  {
   "cell_type": "code",
   "execution_count": 11,
   "id": "0ab907a8",
   "metadata": {},
   "outputs": [
    {
     "data": {
      "text/html": [
       "<div>\n",
       "<style scoped>\n",
       "    .dataframe tbody tr th:only-of-type {\n",
       "        vertical-align: middle;\n",
       "    }\n",
       "\n",
       "    .dataframe tbody tr th {\n",
       "        vertical-align: top;\n",
       "    }\n",
       "\n",
       "    .dataframe thead th {\n",
       "        text-align: right;\n",
       "    }\n",
       "</style>\n",
       "<table border=\"1\" class=\"dataframe\">\n",
       "  <thead>\n",
       "    <tr style=\"text-align: right;\">\n",
       "      <th></th>\n",
       "      <th>Entity1</th>\n",
       "      <th>Relationship</th>\n",
       "      <th>Entity2</th>\n",
       "      <th>Date</th>\n",
       "      <th>Money</th>\n",
       "    </tr>\n",
       "  </thead>\n",
       "  <tbody>\n",
       "    <tr>\n",
       "      <th>76</th>\n",
       "      <td>$8 trillion to</td>\n",
       "      <td>transition (verb: present)</td>\n",
       "      <td>$11 trillion</td>\n",
       "      <td>annually</td>\n",
       "      <td>$8 trillion to</td>\n",
       "    </tr>\n",
       "    <tr>\n",
       "      <th>84</th>\n",
       "      <td>26,000 EVs</td>\n",
       "      <td>transition (verb: participate)</td>\n",
       "      <td>Indonesia</td>\n",
       "      <td>2030</td>\n",
       "      <td>26,000 EVs</td>\n",
       "    </tr>\n",
       "    <tr>\n",
       "      <th>83</th>\n",
       "      <td>26,000 EVs</td>\n",
       "      <td>transition (verb: participate)</td>\n",
       "      <td>Indonesia</td>\n",
       "      <td>2030</td>\n",
       "      <td>26,000 EVs</td>\n",
       "    </tr>\n",
       "    <tr>\n",
       "      <th>117</th>\n",
       "      <td>APEC</td>\n",
       "      <td>enhance (verb: give)</td>\n",
       "      <td>U.S.</td>\n",
       "      <td>2023</td>\n",
       "      <td>NaN</td>\n",
       "    </tr>\n",
       "    <tr>\n",
       "      <th>163</th>\n",
       "      <td>APEC</td>\n",
       "      <td>supply (verb: face)</td>\n",
       "      <td>Ukraine</td>\n",
       "      <td>recent years</td>\n",
       "      <td>NaN</td>\n",
       "    </tr>\n",
       "    <tr>\n",
       "      <th>...</th>\n",
       "      <td>...</td>\n",
       "      <td>...</td>\n",
       "      <td>...</td>\n",
       "      <td>...</td>\n",
       "      <td>...</td>\n",
       "    </tr>\n",
       "    <tr>\n",
       "      <th>109</th>\n",
       "      <td>the United States</td>\n",
       "      <td>finance (verb: agree)</td>\n",
       "      <td>Japan</td>\n",
       "      <td>NaN</td>\n",
       "      <td>NaN</td>\n",
       "    </tr>\n",
       "    <tr>\n",
       "      <th>18</th>\n",
       "      <td>the United States</td>\n",
       "      <td>efforts (verb: coordinate)</td>\n",
       "      <td>Japan</td>\n",
       "      <td>NaN</td>\n",
       "      <td>NaN</td>\n",
       "    </tr>\n",
       "    <tr>\n",
       "      <th>94</th>\n",
       "      <td>the United States</td>\n",
       "      <td>agreement (verb: withdraw)</td>\n",
       "      <td>U.S.</td>\n",
       "      <td>early 2017</td>\n",
       "      <td>NaN</td>\n",
       "    </tr>\n",
       "    <tr>\n",
       "      <th>68</th>\n",
       "      <td>the United States’ Lower Mekong Initiative</td>\n",
       "      <td>sharing (verb: give)</td>\n",
       "      <td>LMI</td>\n",
       "      <td>NaN</td>\n",
       "      <td>NaN</td>\n",
       "    </tr>\n",
       "    <tr>\n",
       "      <th>155</th>\n",
       "      <td>the Western Green Energy Hub</td>\n",
       "      <td>export (verb: propose)</td>\n",
       "      <td>$100 billion</td>\n",
       "      <td>NaN</td>\n",
       "      <td>$100 billion</td>\n",
       "    </tr>\n",
       "  </tbody>\n",
       "</table>\n",
       "<p>190 rows × 5 columns</p>\n",
       "</div>"
      ],
      "text/plain": [
       "                                        Entity1  \\\n",
       "76                               $8 trillion to   \n",
       "84                                   26,000 EVs   \n",
       "83                                   26,000 EVs   \n",
       "117                                        APEC   \n",
       "163                                        APEC   \n",
       "..                                          ...   \n",
       "109                           the United States   \n",
       "18                            the United States   \n",
       "94                            the United States   \n",
       "68   the United States’ Lower Mekong Initiative   \n",
       "155                the Western Green Energy Hub   \n",
       "\n",
       "                       Relationship       Entity2          Date  \\\n",
       "76       transition (verb: present)  $11 trillion      annually   \n",
       "84   transition (verb: participate)     Indonesia          2030   \n",
       "83   transition (verb: participate)     Indonesia          2030   \n",
       "117            enhance (verb: give)          U.S.          2023   \n",
       "163             supply (verb: face)       Ukraine  recent years   \n",
       "..                              ...           ...           ...   \n",
       "109           finance (verb: agree)         Japan           NaN   \n",
       "18       efforts (verb: coordinate)         Japan           NaN   \n",
       "94       agreement (verb: withdraw)          U.S.    early 2017   \n",
       "68             sharing (verb: give)           LMI           NaN   \n",
       "155          export (verb: propose)  $100 billion           NaN   \n",
       "\n",
       "              Money  \n",
       "76   $8 trillion to  \n",
       "84       26,000 EVs  \n",
       "83       26,000 EVs  \n",
       "117             NaN  \n",
       "163             NaN  \n",
       "..              ...  \n",
       "109             NaN  \n",
       "18              NaN  \n",
       "94              NaN  \n",
       "68              NaN  \n",
       "155    $100 billion  \n",
       "\n",
       "[190 rows x 5 columns]"
      ]
     },
     "execution_count": 11,
     "metadata": {},
     "output_type": "execute_result"
    }
   ],
   "source": [
    "sorted_combined_df"
   ]
  },
  {
   "cell_type": "code",
   "execution_count": 12,
   "id": "41969885",
   "metadata": {},
   "outputs": [],
   "source": [
    "sorted_combined_df.to_csv('combined_relationships.csv', index=False)"
   ]
  },
  {
   "cell_type": "code",
   "execution_count": null,
   "id": "712a9fa3",
   "metadata": {},
   "outputs": [],
   "source": []
  }
 ],
 "metadata": {
  "kernelspec": {
   "display_name": "Python 3 (ipykernel)",
   "language": "python",
   "name": "python3"
  },
  "language_info": {
   "codemirror_mode": {
    "name": "ipython",
    "version": 3
   },
   "file_extension": ".py",
   "mimetype": "text/x-python",
   "name": "python",
   "nbconvert_exporter": "python",
   "pygments_lexer": "ipython3",
   "version": "3.11.5"
  }
 },
 "nbformat": 4,
 "nbformat_minor": 5
}
