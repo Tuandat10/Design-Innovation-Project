{
 "cells": [
  {
   "cell_type": "code",
   "execution_count": 3,
   "metadata": {},
   "outputs": [],
   "source": [
    "import pandas as pd"
   ]
  },
  {
   "cell_type": "code",
   "execution_count": 7,
   "metadata": {},
   "outputs": [],
   "source": [
    "df_aus = pd.read_excel(r\"C:\\Users\\HP Envy\\OneDrive - Swinburne University\\Data Science\\Innovation project\\output_data\\visualisations 2.xlsx\",sheet_name=\"Sentiment_AUS\")"
   ]
  },
  {
   "cell_type": "code",
   "execution_count": 10,
   "metadata": {},
   "outputs": [],
   "source": [
    "df_cn = pd.read_excel(r\"C:\\Users\\HP Envy\\OneDrive - Swinburne University\\Data Science\\Innovation project\\output_data\\visualisations 2.xlsx\",sheet_name=\"Sentiment_CN\")"
   ]
  },
  {
   "cell_type": "code",
   "execution_count": 12,
   "metadata": {},
   "outputs": [],
   "source": [
    "df_jap = pd.read_excel(r\"C:\\Users\\HP Envy\\OneDrive - Swinburne University\\Data Science\\Innovation project\\output_data\\visualisations 2.xlsx\",sheet_name=\"Sentiment_JAP\")"
   ]
  },
  {
   "cell_type": "code",
   "execution_count": 13,
   "metadata": {},
   "outputs": [],
   "source": [
    "df_total = pd.concat([df_aus,df_cn,df_jap])"
   ]
  },
  {
   "cell_type": "code",
   "execution_count": 15,
   "metadata": {},
   "outputs": [],
   "source": [
    "df_total.to_csv(r\"C:\\Users\\HP Envy\\OneDrive - Swinburne University\\Data Science\\Innovation project\\output_data\\output_visualization.csv\")"
   ]
  },
  {
   "cell_type": "code",
   "execution_count": null,
   "metadata": {},
   "outputs": [],
   "source": []
  }
 ],
 "metadata": {
  "kernelspec": {
   "display_name": "base",
   "language": "python",
   "name": "python3"
  },
  "language_info": {
   "codemirror_mode": {
    "name": "ipython",
    "version": 3
   },
   "file_extension": ".py",
   "mimetype": "text/x-python",
   "name": "python",
   "nbconvert_exporter": "python",
   "pygments_lexer": "ipython3",
   "version": "3.11.7"
  }
 },
 "nbformat": 4,
 "nbformat_minor": 2
}
